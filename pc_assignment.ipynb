{
  "cells": [
    {
      "cell_type": "code",
      "execution_count": 1,
      "metadata": {
        "collapsed": true,
        "id": "hmujIKbomVxk",
        "colab": {
          "base_uri": "https://localhost:8080/"
        },
        "outputId": "47a4779e-19e8-45fe-f18e-6e78c8e69848"
      },
      "outputs": [
        {
          "output_type": "stream",
          "name": "stdout",
          "text": [
            "\u001b[2K   \u001b[90m━━━━━━━━━━━━━━━━━━━━━━━━━━━━━━━━━━━━━━━━\u001b[0m \u001b[32m399.7/399.7 MB\u001b[0m \u001b[31m4.6 MB/s\u001b[0m eta \u001b[36m0:00:00\u001b[0m\n",
            "\u001b[2K   \u001b[90m━━━━━━━━━━━━━━━━━━━━━━━━━━━━━━━━━━━━━━━━\u001b[0m \u001b[32m7.8/7.8 MB\u001b[0m \u001b[31m77.4 MB/s\u001b[0m eta \u001b[36m0:00:00\u001b[0m\n",
            "\u001b[2K   \u001b[90m━━━━━━━━━━━━━━━━━━━━━━━━━━━━━━━━━━━━━━━━\u001b[0m \u001b[32m139.8/139.8 kB\u001b[0m \u001b[31m7.6 MB/s\u001b[0m eta \u001b[36m0:00:00\u001b[0m\n",
            "\u001b[2K   \u001b[90m━━━━━━━━━━━━━━━━━━━━━━━━━━━━━━━━━━━━━━━━\u001b[0m \u001b[32m228.0/228.0 kB\u001b[0m \u001b[31m11.2 MB/s\u001b[0m eta \u001b[36m0:00:00\u001b[0m\n",
            "\u001b[2K   \u001b[90m━━━━━━━━━━━━━━━━━━━━━━━━━━━━━━━━━━━━━━━━\u001b[0m \u001b[32m2.3/2.3 MB\u001b[0m \u001b[31m56.7 MB/s\u001b[0m eta \u001b[36m0:00:00\u001b[0m\n",
            "\u001b[2K   \u001b[90m━━━━━━━━━━━━━━━━━━━━━━━━━━━━━━━━━━━━━━━━\u001b[0m \u001b[32m1.6/1.6 MB\u001b[0m \u001b[31m47.4 MB/s\u001b[0m eta \u001b[36m0:00:00\u001b[0m\n",
            "\u001b[?25h"
          ]
        }
      ],
      "source": [
        "!pip install -q open3d"
      ]
    },
    {
      "cell_type": "code",
      "execution_count": 2,
      "metadata": {
        "id": "ch5KkzgqBgG9"
      },
      "outputs": [],
      "source": [
        "import open3d as o3d\n",
        "import numpy as np"
      ]
    },
    {
      "cell_type": "markdown",
      "metadata": {
        "id": "iQcCMgN3WeRd"
      },
      "source": [
        "# Task 1\n",
        "In the given point cloud, there is a shoe kept on the floor. The task is to detect the\n",
        "floor and re-orient the floor (and hence the entire point cloud) on the ~~YZ~~ XZ plane with\n",
        "the centre of the floor lying on the origin i.e. the equation of the plane passing through\n",
        "the floor should be y = 0."
      ]
    },
    {
      "cell_type": "code",
      "execution_count": 3,
      "metadata": {
        "id": "LomubHC6HMT7"
      },
      "outputs": [],
      "source": [
        "def get_rotation_matrix(v1, v2):\n",
        "  \"\"\"Compute rotation matrix for orienting v1 to v2\"\"\"\n",
        "  v1 = v1 / np.linalg.norm(v1)\n",
        "  v2 = v2 / np.linalg.norm(v2)\n",
        "\n",
        "  rot_axis = np.cross(v1, v2)\n",
        "  rot_axis /= np.linalg.norm(rot_axis)\n",
        "\n",
        "  rot_angle = np.arccos(np.dot(v1, v2))\n",
        "\n",
        "  rot_mat = o3d.geometry.get_rotation_matrix_from_axis_angle(rot_angle * rot_axis)\n",
        "  return rot_mat\n",
        "\n",
        "def show_pcd(pcd):\n",
        "  o3d.visualization.draw_plotly([pcd], up=[0, 1, 0])\n",
        "\n",
        "def reorient_pcd(pcd, visualize=False):\n",
        "  if visualize:\n",
        "    print(\"Raw pcd:\")\n",
        "    show_pcd(pcd)\n",
        "\n",
        "  # Detect floor using plane segmentation\n",
        "  plane_eq, inliers = pcd.segment_plane(distance_threshold=0.001,\n",
        "                                      ransac_n=5,\n",
        "                                      num_iterations=1000)\n",
        "  plane = pcd.select_by_index(inliers)\n",
        "\n",
        "  if visualize:\n",
        "    print(\"Segmented floor:\")\n",
        "    show_pcd(plane)\n",
        "\n",
        "  # Translate to bring floor center to origin\n",
        "  T = -plane.get_center()\n",
        "  plane.translate(T)\n",
        "  pcd.translate(T)\n",
        "\n",
        "  # Get plane normal from eq\n",
        "  [a, b, c, d] = plane_eq\n",
        "  plane_normal = np.array([a, b, c], dtype=float)\n",
        "\n",
        "  # Orient normal towards pcd center\n",
        "  if np.dot(plane_normal, pcd.get_center()) < 0:\n",
        "    plane_normal = -plane_normal\n",
        "\n",
        "  # Compute rotation matrix\n",
        "  y_axis = np.array([0, 1, 0], dtype=float)\n",
        "  R = get_rotation_matrix(plane_normal, y_axis)\n",
        "\n",
        "  # Rotate pcd to align normal with y axis\n",
        "  plane.rotate(R, center=[0, 0, 0])\n",
        "  pcd.rotate(R, center=[0, 0, 0])\n",
        "\n",
        "  if visualize:\n",
        "    print(\"Re-oriented pcd:\")\n",
        "    show_pcd(pcd)\n",
        "\n",
        "  return pcd, R, T"
      ]
    },
    {
      "cell_type": "code",
      "execution_count": 4,
      "metadata": {
        "id": "sYaDVs07UA9A"
      },
      "outputs": [],
      "source": [
        "pcd = o3d.io.read_point_cloud(\"/content/drive/MyDrive/Clipboard/pc_assignment/shoe_pc.ply\")\n",
        "pcd_aligned, R, T = reorient_pcd(pcd, visualize=False)"
      ]
    },
    {
      "cell_type": "markdown",
      "metadata": {
        "id": "qtaEEe6EWtrb"
      },
      "source": [
        "## Task 2\n",
        "Since the 3D representation involved over here is a point cloud, the overall scene looks kind of pointy and perforated. Convert this point cloud to some other representation where the scene looks more continuous with a smooth surface.\n"
      ]
    },
    {
      "cell_type": "code",
      "execution_count": 5,
      "metadata": {
        "id": "mLIiFQ8VL7Ud"
      },
      "outputs": [],
      "source": [
        "def meshify_pcd(pcd, visualize=False):\n",
        "  # Remove outliers\n",
        "  pcd_clean, _ = pcd.remove_statistical_outlier(nb_neighbors=20, std_ratio=1.5)\n",
        "\n",
        "  if visualize:\n",
        "    print(\"Clean pcd:\")\n",
        "    show_pcd(pcd_clean)\n",
        "\n",
        "  # Calculate normals and orient them for consistency\n",
        "  pcd_clean.estimate_normals(\n",
        "      search_param=o3d.geometry.KDTreeSearchParamHybrid(radius=0.01, max_nn=30))\n",
        "  pcd_clean.orient_normals_consistent_tangent_plane(k=30)\n",
        "\n",
        "  # Construct mesh\n",
        "  mesh, densities = o3d.geometry.TriangleMesh.create_from_point_cloud_poisson(\n",
        "      pcd_clean, depth=5)\n",
        "\n",
        "  if visualize:\n",
        "    print(\"Meshified:\")\n",
        "    show_pcd(mesh)\n",
        "\n",
        "  return mesh"
      ]
    },
    {
      "cell_type": "code",
      "execution_count": 6,
      "metadata": {
        "colab": {
          "base_uri": "https://localhost:8080/"
        },
        "id": "Zqp3VtUfUFTu",
        "outputId": "d8a477bb-c0cc-4f59-e472-1b4fe86b6046"
      },
      "outputs": [
        {
          "output_type": "execute_result",
          "data": {
            "text/plain": [
              "TriangleMesh with 1623 points and 3108 triangles."
            ]
          },
          "metadata": {},
          "execution_count": 6
        }
      ],
      "source": [
        "meshify_pcd(pcd_aligned, visualize=False)"
      ]
    },
    {
      "cell_type": "markdown",
      "metadata": {
        "id": "4lAcbeMEOmwk"
      },
      "source": [
        "# Task 3\n",
        "Add a unit test case to check and verify your solution. For this, add some random transformations to an input point cloud and then pass it through your algorithm to test it."
      ]
    },
    {
      "cell_type": "code",
      "execution_count": 7,
      "metadata": {
        "colab": {
          "base_uri": "https://localhost:8080/"
        },
        "id": "twyn5qzLO2A5",
        "outputId": "ff071743-46d9-48cd-b8ba-173f198fc756"
      },
      "outputs": [
        {
          "output_type": "stream",
          "name": "stdout",
          "text": [
            "[[ 1.00000000e+00 -3.97491755e-16 -7.45206385e-17]\n",
            " [ 3.63890903e-16  1.00000000e+00 -1.07006905e-16]\n",
            " [-4.17507078e-18  2.92120513e-17  1.00000000e+00]]\n",
            "[ 1.38777878e-16  5.55111512e-16 -1.11022302e-15]\n",
            "Test passed.\n"
          ]
        }
      ],
      "source": [
        "def unit_test(visualize=False):\n",
        "  # Create point cloud on the XZ plane\n",
        "  points = np.array([[x, 0, z] for x in np.arange(-1, 1.05, 0.05) for z in np.arange(-1, 1.05, 0.05)])\n",
        "  points = np.concatenate((points, np.array([[0, 1, 0]])), axis=0) # hack for visualization\n",
        "  pcd = o3d.geometry.PointCloud()\n",
        "  pcd.points = o3d.utility.Vector3dVector(points)\n",
        "\n",
        "  if visualize:\n",
        "    print(\"Init plane:\")\n",
        "    show_pcd(pcd)\n",
        "\n",
        "  # Apply random rotation and translation\n",
        "  angle = np.random.uniform(0, np.pi)\n",
        "  axis = np.random.randn(3)\n",
        "  axis[1] = 0 # do not rotate about Y since algorithm allows any rotation about Y\n",
        "  axis /= np.linalg.norm(axis)\n",
        "  R = o3d.geometry.get_rotation_matrix_from_axis_angle(axis * angle)\n",
        "  pcd.rotate(R, center=[0, 0, 0])\n",
        "  T = np.random.uniform(-1, 1, size=3)\n",
        "  pcd.translate(T)\n",
        "\n",
        "  _, R_hat, T_hat = reorient_pcd(pcd, visualize=visualize)\n",
        "  R_prod = np.matmul(R_hat, R)\n",
        "  T_sum  = T_hat + T\n",
        "  print(R_prod)\n",
        "  print(T_sum)\n",
        "  # R_hat * R = 1\n",
        "  # T_hat + T = 0\n",
        "  if np.allclose(R_prod, np.eye(3, dtype=float)) and np.allclose(T_sum, np.zeros_like(T)):\n",
        "    print(\"Test passed.\")\n",
        "  else:\n",
        "    print(\"Test failed\")\n",
        "\n",
        "unit_test(visualize=False)"
      ]
    }
  ],
  "metadata": {
    "colab": {
      "provenance": [],
      "mount_file_id": "1bCy9QXMTmM3tF8811XPcxdlrVO1nfKhj",
      "authorship_tag": "ABX9TyOzI3l7UgK2k1itn4OXOgki"
    },
    "kernelspec": {
      "display_name": "Python 3",
      "name": "python3"
    },
    "language_info": {
      "name": "python"
    }
  },
  "nbformat": 4,
  "nbformat_minor": 0
}